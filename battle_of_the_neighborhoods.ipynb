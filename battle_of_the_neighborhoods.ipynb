{
  "nbformat": 4,
  "nbformat_minor": 0,
  "metadata": {
    "colab": {
      "name": "battle_of_the_neighborhoods.ipynb",
      "provenance": [],
      "authorship_tag": "ABX9TyPjXREQs444Ybpuu+j34gEs",
      "include_colab_link": true
    },
    "kernelspec": {
      "name": "python3",
      "display_name": "Python 3"
    },
    "language_info": {
      "name": "python"
    }
  },
  "cells": [
    {
      "cell_type": "markdown",
      "metadata": {
        "id": "view-in-github",
        "colab_type": "text"
      },
      "source": [
        "<a href=\"https://colab.research.google.com/github/MuhammadAteeb225/Coursera_Capstone/blob/main/battle_of_the_neighborhoods.ipynb\" target=\"_parent\"><img src=\"https://colab.research.google.com/assets/colab-badge.svg\" alt=\"Open In Colab\"/></a>"
      ]
    },
    {
      "cell_type": "markdown",
      "metadata": {
        "id": "5-MyK-dkEDzC"
      },
      "source": [
        "# Applied Data Science Capstone Project\n",
        "## Battle of the Neighborhoods"
      ]
    },
    {
      "cell_type": "code",
      "metadata": {
        "id": "aP09wpetD3zi"
      },
      "source": [
        "import pandas as pd\n",
        "import numpy as np"
      ],
      "execution_count": 1,
      "outputs": []
    },
    {
      "cell_type": "code",
      "metadata": {
        "colab": {
          "base_uri": "https://localhost:8080/"
        },
        "id": "3g5y5j-7EYww",
        "outputId": "0577c7c9-e021-4883-ff82-92fe6ecc00a9"
      },
      "source": [
        "print(\"Hello Capstone Project Course!\")"
      ],
      "execution_count": 2,
      "outputs": [
        {
          "output_type": "stream",
          "text": [
            "Hello Capstone Project Course!\n"
          ],
          "name": "stdout"
        }
      ]
    }
  ]
}